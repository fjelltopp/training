{
 "cells": [
  {
   "cell_type": "markdown",
   "metadata": {},
   "source": [
    "# Exercise 4: Hypertension patients\n",
    "\n",
    "We want to investigate hypertension patients based on the NCD download data. \n",
    "\n",
    "Questions we want to investigate: \n",
    "\n",
    "* What is the gender breakdown of Hypertension patients\n",
    "* Is there a gender difference in the number of controlled hypertension patients\n",
    "* Want to look at the geographic distribution of the fraction of controlled hypertension patients\n",
    "* (Bonus) Build a linear regression model to investigate which factors impact BP in hypertension patients\n",
    "\n",
    "This exercise is using Pandas to read in data downloaded from the website. "
   ]
  },
  {
   "cell_type": "code",
   "execution_count": 3,
   "metadata": {},
   "outputs": [],
   "source": [
    "import pandas as pd"
   ]
  },
  {
   "cell_type": "markdown",
   "metadata": {},
   "source": [
    "We import the data from an excel file"
   ]
  },
  {
   "cell_type": "code",
   "execution_count": 4,
   "metadata": {},
   "outputs": [],
   "source": [
    "data = pd.read_excel(\"../../../non_communicable_diseases.xlsx\")"
   ]
  },
  {
   "cell_type": "markdown",
   "metadata": {},
   "source": [
    "We get all the hypertension patients as follows: "
   ]
  },
  {
   "cell_type": "code",
   "execution_count": 5,
   "metadata": {},
   "outputs": [],
   "source": [
    "hypertension_data = data[data[\"Common Name\"] == \"Hypertension\"]"
   ]
  },
  {
   "cell_type": "code",
   "execution_count": 6,
   "metadata": {},
   "outputs": [
    {
     "name": "stderr",
     "output_type": "stream",
     "text": [
      "/home/gunnar/miniconda3/lib/python3.6/site-packages/ipykernel_launcher.py:2: SettingWithCopyWarning: \n",
      "A value is trying to be set on a copy of a slice from a DataFrame.\n",
      "Try using .loc[row_indexer,col_indexer] = value instead\n",
      "\n",
      "See the caveats in the documentation: http://pandas.pydata.org/pandas-docs/stable/indexing.html#indexing-view-versus-copy\n",
      "  \n"
     ]
    }
   ],
   "source": [
    "# We calculate controlled patients as patients with systolic BP less than 150\n",
    "hypertension_data[\"controlled\"] = (hypertension_data[\"Systolic BP\"] < 150).apply(int)"
   ]
  },
  {
   "cell_type": "markdown",
   "metadata": {},
   "source": [
    "Now you can try to investigate the gender distribution of controlled and not controlled patients"
   ]
  },
  {
   "cell_type": "code",
   "execution_count": 4,
   "metadata": {},
   "outputs": [
    {
     "data": {
      "text/plain": [
       "female    47098\n",
       "male      30326\n",
       "Name: Gender, dtype: int64"
      ]
     },
     "execution_count": 4,
     "metadata": {},
     "output_type": "execute_result"
    }
   ],
   "source": [
    "hypertension_data[\"Gender\"].value_counts()"
   ]
  },
  {
   "cell_type": "markdown",
   "metadata": {},
   "source": [
    "One useful function is to create a pivot table as in the example below:"
   ]
  },
  {
   "cell_type": "code",
   "execution_count": 6,
   "metadata": {},
   "outputs": [
    {
     "data": {
      "text/plain": [
       "Gender  controlled\n",
       "female  0             42243\n",
       "        1              4855\n",
       "male    0             27091\n",
       "        1              3235\n",
       "Name: Clinic, dtype: int64"
      ]
     },
     "execution_count": 6,
     "metadata": {},
     "output_type": "execute_result"
    }
   ],
   "source": [
    "hypertension_data.pivot_table(index=[\"Gender\",\"controlled\"], aggfunc=\"count\")[\"Clinic\"]"
   ]
  },
  {
   "cell_type": "markdown",
   "metadata": {},
   "source": [
    "If we want to calculate the fraction of controlled patients for each gender the easiest thing is to iterate over each group as below. "
   ]
  },
  {
   "cell_type": "code",
   "execution_count": 7,
   "metadata": {},
   "outputs": [
    {
     "name": "stdout",
     "output_type": "stream",
     "text": [
      "female 0.529661556754\n",
      "male 0.532381454857\n"
     ]
    }
   ],
   "source": [
    "for name, group in hypertension_data.groupby(\"Gender\"):\n",
    "    # Calculate and pring the fraction of controlled patients for each Gender"
   ]
  },
  {
   "cell_type": "markdown",
   "metadata": {},
   "source": [
    "You can now try the same with using the Region variable instead of Gender. To see the geographic distribution"
   ]
  },
  {
   "cell_type": "code",
   "execution_count": 15,
   "metadata": {},
   "outputs": [],
   "source": [
    "# Create a pivot table for Region and Controlled"
   ]
  },
  {
   "cell_type": "code",
   "execution_count": 16,
   "metadata": {},
   "outputs": [],
   "source": [
    "# Using groupby calculate the fraction of controlled patients in each Region"
   ]
  },
  {
   "cell_type": "markdown",
   "metadata": {},
   "source": [
    "As a bonus we can try to create a linear regression model to estimate a patients BP from other factors. To this we use the statsmodel packages as below"
   ]
  },
  {
   "cell_type": "code",
   "execution_count": 12,
   "metadata": {},
   "outputs": [],
   "source": [
    "import statsmodels.formula.api as smf"
   ]
  },
  {
   "cell_type": "code",
   "execution_count": 10,
   "metadata": {},
   "outputs": [
    {
     "data": {
      "text/plain": [
       "Index(['visit_type', 'visit_date', 'epi_week', 'vist_day', 'vist_month',\n",
       "       'visit_year', 'region', 'district', 'clinic', 'status',\n",
       "       ...\n",
       "       'dose_of_medicine_3_prescribed',\n",
       "       'availability_of_medicine_3_prescribed',\n",
       "       'name_of_medicine_4_prescribed', 'dose_of_medicine_4_prescribed',\n",
       "       'availability_of_medicine_4_prescribed',\n",
       "       'name_of_medicine_5_prescribed', 'dose_of_medicine_5_prescribed',\n",
       "       'availability_of_medicine_5_prescribed', 'uuid', 'controlled'],\n",
       "      dtype='object', length=129)"
      ]
     },
     "execution_count": 10,
     "metadata": {},
     "output_type": "execute_result"
    }
   ],
   "source": [
    "# To use this package properly we need to make sure all the column names are a bit easier to deal with \n",
    "from slugify import slugify\n",
    "smf_data =hypertension_data.rename(columns=lambda x: slugify(x).replace(\"-\", \"_\"))\n",
    "smf_data.columns"
   ]
  },
  {
   "cell_type": "markdown",
   "metadata": {},
   "source": [
    "We can now create our first regression model of modelling the age and gender effect on BP. We specify our model using a formula language `systolic_bp ~ age_years + C(gender)`. The C(gender), means that gender is treated as a categorical factor. We can see the result of this regression analysis below"
   ]
  },
  {
   "cell_type": "code",
   "execution_count": 13,
   "metadata": {},
   "outputs": [
    {
     "data": {
      "text/html": [
       "<table class=\"simpletable\">\n",
       "<caption>OLS Regression Results</caption>\n",
       "<tr>\n",
       "  <th>Dep. Variable:</th>       <td>systolic_bp</td>   <th>  R-squared:         </th>  <td>   0.002</td>  \n",
       "</tr>\n",
       "<tr>\n",
       "  <th>Model:</th>                   <td>OLS</td>       <th>  Adj. R-squared:    </th>  <td>   0.002</td>  \n",
       "</tr>\n",
       "<tr>\n",
       "  <th>Method:</th>             <td>Least Squares</td>  <th>  F-statistic:       </th>  <td>   51.82</td>  \n",
       "</tr>\n",
       "<tr>\n",
       "  <th>Date:</th>             <td>Fri, 22 Sep 2017</td> <th>  Prob (F-statistic):</th>  <td>3.30e-23</td>  \n",
       "</tr>\n",
       "<tr>\n",
       "  <th>Time:</th>                 <td>10:49:25</td>     <th>  Log-Likelihood:    </th> <td>-2.3827e+05</td>\n",
       "</tr>\n",
       "<tr>\n",
       "  <th>No. Observations:</th>      <td> 55148</td>      <th>  AIC:               </th>  <td>4.765e+05</td> \n",
       "</tr>\n",
       "<tr>\n",
       "  <th>Df Residuals:</th>          <td> 55145</td>      <th>  BIC:               </th>  <td>4.766e+05</td> \n",
       "</tr>\n",
       "<tr>\n",
       "  <th>Df Model:</th>              <td>     2</td>      <th>                     </th>      <td> </td>     \n",
       "</tr>\n",
       "<tr>\n",
       "  <th>Covariance Type:</th>      <td>nonrobust</td>    <th>                     </th>      <td> </td>     \n",
       "</tr>\n",
       "</table>\n",
       "<table class=\"simpletable\">\n",
       "<tr>\n",
       "          <td></td>             <th>coef</th>     <th>std err</th>      <th>t</th>      <th>P>|t|</th>  <th>[0.025</th>    <th>0.975]</th>  \n",
       "</tr>\n",
       "<tr>\n",
       "  <th>Intercept</th>         <td>  132.5812</td> <td>    0.391</td> <td>  338.927</td> <td> 0.000</td> <td>  131.815</td> <td>  133.348</td>\n",
       "</tr>\n",
       "<tr>\n",
       "  <th>C(gender)[T.male]</th> <td>    0.2940</td> <td>    0.159</td> <td>    1.852</td> <td> 0.064</td> <td>   -0.017</td> <td>    0.605</td>\n",
       "</tr>\n",
       "<tr>\n",
       "  <th>age_years</th>         <td>    0.0637</td> <td>    0.006</td> <td>    9.944</td> <td> 0.000</td> <td>    0.051</td> <td>    0.076</td>\n",
       "</tr>\n",
       "</table>\n",
       "<table class=\"simpletable\">\n",
       "<tr>\n",
       "  <th>Omnibus:</th>       <td>4387.054</td> <th>  Durbin-Watson:     </th> <td>   1.997</td>\n",
       "</tr>\n",
       "<tr>\n",
       "  <th>Prob(Omnibus):</th>  <td> 0.000</td>  <th>  Jarque-Bera (JB):  </th> <td>7684.979</td>\n",
       "</tr>\n",
       "<tr>\n",
       "  <th>Skew:</th>           <td> 0.584</td>  <th>  Prob(JB):          </th> <td>    0.00</td>\n",
       "</tr>\n",
       "<tr>\n",
       "  <th>Kurtosis:</th>       <td> 4.408</td>  <th>  Cond. No.          </th> <td>    306.</td>\n",
       "</tr>\n",
       "</table>"
      ],
      "text/plain": [
       "<class 'statsmodels.iolib.summary.Summary'>\n",
       "\"\"\"\n",
       "                            OLS Regression Results                            \n",
       "==============================================================================\n",
       "Dep. Variable:            systolic_bp   R-squared:                       0.002\n",
       "Model:                            OLS   Adj. R-squared:                  0.002\n",
       "Method:                 Least Squares   F-statistic:                     51.82\n",
       "Date:                Fri, 22 Sep 2017   Prob (F-statistic):           3.30e-23\n",
       "Time:                        10:49:25   Log-Likelihood:            -2.3827e+05\n",
       "No. Observations:               55148   AIC:                         4.765e+05\n",
       "Df Residuals:                   55145   BIC:                         4.766e+05\n",
       "Df Model:                           2                                         \n",
       "Covariance Type:            nonrobust                                         \n",
       "=====================================================================================\n",
       "                        coef    std err          t      P>|t|      [0.025      0.975]\n",
       "-------------------------------------------------------------------------------------\n",
       "Intercept           132.5812      0.391    338.927      0.000     131.815     133.348\n",
       "C(gender)[T.male]     0.2940      0.159      1.852      0.064      -0.017       0.605\n",
       "age_years             0.0637      0.006      9.944      0.000       0.051       0.076\n",
       "==============================================================================\n",
       "Omnibus:                     4387.054   Durbin-Watson:                   1.997\n",
       "Prob(Omnibus):                  0.000   Jarque-Bera (JB):             7684.979\n",
       "Skew:                           0.584   Prob(JB):                         0.00\n",
       "Kurtosis:                       4.408   Cond. No.                         306.\n",
       "==============================================================================\n",
       "\n",
       "Warnings:\n",
       "[1] Standard Errors assume that the covariance matrix of the errors is correctly specified.\n",
       "\"\"\""
      ]
     },
     "execution_count": 13,
     "metadata": {},
     "output_type": "execute_result"
    }
   ],
   "source": [
    "smf.ols(\"systolic_bp ~ age_years + C(gender)\", data=smf_data).fit().summary()"
   ]
  },
  {
   "cell_type": "markdown",
   "metadata": {},
   "source": [
    "You can now extedn this model to try to understand what the impact of for example Region, BMI or visit type has on the BP of the patients"
   ]
  },
  {
   "cell_type": "code",
   "execution_count": 17,
   "metadata": {},
   "outputs": [],
   "source": [
    "# Create and fit a larger linear model as above"
   ]
  },
  {
   "cell_type": "code",
   "execution_count": null,
   "metadata": {},
   "outputs": [],
   "source": []
  }
 ],
 "metadata": {
  "kernelspec": {
   "display_name": "Python 3",
   "language": "python",
   "name": "python3"
  },
  "language_info": {
   "codemirror_mode": {
    "name": "ipython",
    "version": 3
   },
   "file_extension": ".py",
   "mimetype": "text/x-python",
   "name": "python",
   "nbconvert_exporter": "python",
   "pygments_lexer": "ipython3",
   "version": "3.6.0"
  }
 },
 "nbformat": 4,
 "nbformat_minor": 2
}
