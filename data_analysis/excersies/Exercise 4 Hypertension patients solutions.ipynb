{
 "cells": [
  {
   "cell_type": "markdown",
   "metadata": {},
   "source": [
    "# Exercise 4: Hypertension patients\n",
    "\n",
    "We want to investigate hypertension patients based on the NCD download data. \n",
    "\n",
    "Questions we want to investigate: \n",
    "\n",
    "* What is the gender breakdown of Hypertension patients\n",
    "* Is there a gender difference in the number of controlled hypertension patients\n",
    "* Want to look at the geographic distribution of the fraction of controlled hypertension patients\n",
    "* (Bonus) Build a linear regression model to investigate which factors impact BP in hypertension patients\n",
    "\n",
    "This exercise is using Pandas to read in data downloaded from the website. "
   ]
  },
  {
   "cell_type": "code",
   "execution_count": 3,
   "metadata": {},
   "outputs": [],
   "source": [
    "import pandas as pd"
   ]
  },
  {
   "cell_type": "markdown",
   "metadata": {},
   "source": [
    "We import the data from an excel file"
   ]
  },
  {
   "cell_type": "code",
   "execution_count": 4,
   "metadata": {},
   "outputs": [],
   "source": [
    "data = pd.read_excel(\"../../../non_communicable_diseases.xlsx\")"
   ]
  },
  {
   "cell_type": "markdown",
   "metadata": {},
   "source": [
    "We get all the hypertension patients as follows: "
   ]
  },
  {
   "cell_type": "code",
   "execution_count": 5,
   "metadata": {},
   "outputs": [],
   "source": [
    "hypertension_data = data[data[\"Common Name\"] == \"Hypertension\"]"
   ]
  },
  {
   "cell_type": "code",
   "execution_count": 6,
   "metadata": {},
   "outputs": [
    {
     "name": "stderr",
     "output_type": "stream",
     "text": [
      "/home/gunnar/miniconda3/lib/python3.6/site-packages/ipykernel_launcher.py:2: SettingWithCopyWarning: \n",
      "A value is trying to be set on a copy of a slice from a DataFrame.\n",
      "Try using .loc[row_indexer,col_indexer] = value instead\n",
      "\n",
      "See the caveats in the documentation: http://pandas.pydata.org/pandas-docs/stable/indexing.html#indexing-view-versus-copy\n",
      "  \n"
     ]
    }
   ],
   "source": [
    "# We calculate controlled patients as patients with systolic BP less than 150\n",
    "hypertension_data[\"controlled\"] = (hypertension_data[\"Systolic BP\"] < 150).apply(int)"
   ]
  },
  {
   "cell_type": "markdown",
   "metadata": {},
   "source": [
    "Now you can try to investigate the gender distribution of controlled and not controlled patients"
   ]
  },
  {
   "cell_type": "code",
   "execution_count": 4,
   "metadata": {},
   "outputs": [
    {
     "data": {
      "text/plain": [
       "female    47098\n",
       "male      30326\n",
       "Name: Gender, dtype: int64"
      ]
     },
     "execution_count": 4,
     "metadata": {},
     "output_type": "execute_result"
    }
   ],
   "source": [
    "hypertension_data[\"Gender\"].value_counts()"
   ]
  },
  {
   "cell_type": "markdown",
   "metadata": {},
   "source": [
    "One useful function is to create a pivot table as in the example below:"
   ]
  },
  {
   "cell_type": "code",
   "execution_count": 6,
   "metadata": {},
   "outputs": [
    {
     "data": {
      "text/plain": [
       "Gender  controlled\n",
       "female  0             42243\n",
       "        1              4855\n",
       "male    0             27091\n",
       "        1              3235\n",
       "Name: Clinic, dtype: int64"
      ]
     },
     "execution_count": 6,
     "metadata": {},
     "output_type": "execute_result"
    }
   ],
   "source": [
    "hypertension_data.pivot_table(index=[\"Gender\",\"controlled\"], aggfunc=\"count\")[\"Clinic\"]"
   ]
  },
  {
   "cell_type": "markdown",
   "metadata": {},
   "source": [
    "If we want to calculate the fraction of controlled patients for each gender the easiest thing is to iterate over each group as below. "
   ]
  },
  {
   "cell_type": "code",
   "execution_count": 7,
   "metadata": {},
   "outputs": [
    {
     "name": "stdout",
     "output_type": "stream",
     "text": [
      "female 0.529661556754\n",
      "male 0.532381454857\n"
     ]
    }
   ],
   "source": [
    "for name, group in hypertension_data.groupby(\"Gender\"):\n",
    "    fraction = group[\"controlled\"].sum() / len(group)\n",
    "    print(name, fraction)"
   ]
  },
  {
   "cell_type": "markdown",
   "metadata": {},
   "source": [
    "You can now try the same with using the Region variable instead of Gender. To see the geographic distribution"
   ]
  },
  {
   "cell_type": "code",
   "execution_count": 8,
   "metadata": {},
   "outputs": [
    {
     "data": {
      "text/plain": [
       "Region    controlled\n",
       "Ajloun    0               774\n",
       "          1              2120\n",
       "Amman     0              6221\n",
       "          1              7533\n",
       "Aqaba     0               374\n",
       "          1               786\n",
       "Balqa     0              4563\n",
       "          1              6780\n",
       "Irbid     0             10366\n",
       "          1              6767\n",
       "Jarash    0              1094\n",
       "          1              2098\n",
       "Karak     0              3043\n",
       "          1              3877\n",
       "Ma'an     0               110\n",
       "          1               264\n",
       "Madaba    0              1401\n",
       "          1              2191\n",
       "Mafraq    0              1274\n",
       "          1              1277\n",
       "Petra     0               344\n",
       "          1               329\n",
       "Ramtha    0              1479\n",
       "          1               603\n",
       "Tafeileh  0              1245\n",
       "          1               523\n",
       "Zarqa     0              4166\n",
       "          1              6004\n",
       "Name: Clinic, dtype: int64"
      ]
     },
     "execution_count": 8,
     "metadata": {},
     "output_type": "execute_result"
    }
   ],
   "source": [
    "hypertension_data.pivot_table(index=[\"Region\",\"controlled\"], aggfunc=\"count\")[\"Clinic\"]\n"
   ]
  },
  {
   "cell_type": "code",
   "execution_count": 9,
   "metadata": {},
   "outputs": [
    {
     "name": "stdout",
     "output_type": "stream",
     "text": [
      "Ajloun 0.732550103663\n",
      "Amman 0.547695215937\n",
      "Aqaba 0.677586206897\n",
      "Balqa 0.597725469453\n",
      "Irbid 0.394968773712\n",
      "Jarash 0.657268170426\n",
      "Karak 0.560260115607\n",
      "Ma'an 0.705882352941\n",
      "Madaba 0.609966592428\n",
      "Mafraq 0.500588004704\n",
      "Petra 0.488855869242\n",
      "Ramtha 0.289625360231\n",
      "Tafeileh 0.295814479638\n",
      "Zarqa 0.590363815143\n"
     ]
    }
   ],
   "source": [
    "for name, group in hypertension_data.groupby(\"Region\"):\n",
    "    fraction = group[\"controlled\"].sum() / len(group)\n",
    "    print(name, fraction)"
   ]
  },
  {
   "cell_type": "markdown",
   "metadata": {},
   "source": [
    "As a bonus we can try to create a linear regression model to estimate a patients BP from other factors. To this we use the statsmodel packages as below"
   ]
  },
  {
   "cell_type": "code",
   "execution_count": 12,
   "metadata": {},
   "outputs": [],
   "source": [
    "import statsmodels.formula.api as smf"
   ]
  },
  {
   "cell_type": "code",
   "execution_count": 10,
   "metadata": {},
   "outputs": [
    {
     "data": {
      "text/plain": [
       "Index(['visit_type', 'visit_date', 'epi_week', 'vist_day', 'vist_month',\n",
       "       'visit_year', 'region', 'district', 'clinic', 'status',\n",
       "       ...\n",
       "       'dose_of_medicine_3_prescribed',\n",
       "       'availability_of_medicine_3_prescribed',\n",
       "       'name_of_medicine_4_prescribed', 'dose_of_medicine_4_prescribed',\n",
       "       'availability_of_medicine_4_prescribed',\n",
       "       'name_of_medicine_5_prescribed', 'dose_of_medicine_5_prescribed',\n",
       "       'availability_of_medicine_5_prescribed', 'uuid', 'controlled'],\n",
       "      dtype='object', length=129)"
      ]
     },
     "execution_count": 10,
     "metadata": {},
     "output_type": "execute_result"
    }
   ],
   "source": [
    "# To use this package properly we need to make sure all the column names are a bit easier to deal with \n",
    "from slugify import slugify\n",
    "smf_data =hypertension_data.rename(columns=lambda x: slugify(x).replace(\"-\", \"_\"))\n",
    "smf_data.columns"
   ]
  },
  {
   "cell_type": "markdown",
   "metadata": {},
   "source": [
    "We can now create our first regression model of modelling the age and gender effect on BP. We specify our model using a formula language `systolic_bp ~ age_years + C(gender)`. The C(gender), means that gender is treated as a categorical factor. We can see the result of this regression analysis below"
   ]
  },
  {
   "cell_type": "code",
   "execution_count": 13,
   "metadata": {},
   "outputs": [
    {
     "data": {
      "text/html": [
       "<table class=\"simpletable\">\n",
       "<caption>OLS Regression Results</caption>\n",
       "<tr>\n",
       "  <th>Dep. Variable:</th>       <td>systolic_bp</td>   <th>  R-squared:         </th>  <td>   0.002</td>  \n",
       "</tr>\n",
       "<tr>\n",
       "  <th>Model:</th>                   <td>OLS</td>       <th>  Adj. R-squared:    </th>  <td>   0.002</td>  \n",
       "</tr>\n",
       "<tr>\n",
       "  <th>Method:</th>             <td>Least Squares</td>  <th>  F-statistic:       </th>  <td>   51.82</td>  \n",
       "</tr>\n",
       "<tr>\n",
       "  <th>Date:</th>             <td>Fri, 22 Sep 2017</td> <th>  Prob (F-statistic):</th>  <td>3.30e-23</td>  \n",
       "</tr>\n",
       "<tr>\n",
       "  <th>Time:</th>                 <td>10:49:25</td>     <th>  Log-Likelihood:    </th> <td>-2.3827e+05</td>\n",
       "</tr>\n",
       "<tr>\n",
       "  <th>No. Observations:</th>      <td> 55148</td>      <th>  AIC:               </th>  <td>4.765e+05</td> \n",
       "</tr>\n",
       "<tr>\n",
       "  <th>Df Residuals:</th>          <td> 55145</td>      <th>  BIC:               </th>  <td>4.766e+05</td> \n",
       "</tr>\n",
       "<tr>\n",
       "  <th>Df Model:</th>              <td>     2</td>      <th>                     </th>      <td> </td>     \n",
       "</tr>\n",
       "<tr>\n",
       "  <th>Covariance Type:</th>      <td>nonrobust</td>    <th>                     </th>      <td> </td>     \n",
       "</tr>\n",
       "</table>\n",
       "<table class=\"simpletable\">\n",
       "<tr>\n",
       "          <td></td>             <th>coef</th>     <th>std err</th>      <th>t</th>      <th>P>|t|</th>  <th>[0.025</th>    <th>0.975]</th>  \n",
       "</tr>\n",
       "<tr>\n",
       "  <th>Intercept</th>         <td>  132.5812</td> <td>    0.391</td> <td>  338.927</td> <td> 0.000</td> <td>  131.815</td> <td>  133.348</td>\n",
       "</tr>\n",
       "<tr>\n",
       "  <th>C(gender)[T.male]</th> <td>    0.2940</td> <td>    0.159</td> <td>    1.852</td> <td> 0.064</td> <td>   -0.017</td> <td>    0.605</td>\n",
       "</tr>\n",
       "<tr>\n",
       "  <th>age_years</th>         <td>    0.0637</td> <td>    0.006</td> <td>    9.944</td> <td> 0.000</td> <td>    0.051</td> <td>    0.076</td>\n",
       "</tr>\n",
       "</table>\n",
       "<table class=\"simpletable\">\n",
       "<tr>\n",
       "  <th>Omnibus:</th>       <td>4387.054</td> <th>  Durbin-Watson:     </th> <td>   1.997</td>\n",
       "</tr>\n",
       "<tr>\n",
       "  <th>Prob(Omnibus):</th>  <td> 0.000</td>  <th>  Jarque-Bera (JB):  </th> <td>7684.979</td>\n",
       "</tr>\n",
       "<tr>\n",
       "  <th>Skew:</th>           <td> 0.584</td>  <th>  Prob(JB):          </th> <td>    0.00</td>\n",
       "</tr>\n",
       "<tr>\n",
       "  <th>Kurtosis:</th>       <td> 4.408</td>  <th>  Cond. No.          </th> <td>    306.</td>\n",
       "</tr>\n",
       "</table>"
      ],
      "text/plain": [
       "<class 'statsmodels.iolib.summary.Summary'>\n",
       "\"\"\"\n",
       "                            OLS Regression Results                            \n",
       "==============================================================================\n",
       "Dep. Variable:            systolic_bp   R-squared:                       0.002\n",
       "Model:                            OLS   Adj. R-squared:                  0.002\n",
       "Method:                 Least Squares   F-statistic:                     51.82\n",
       "Date:                Fri, 22 Sep 2017   Prob (F-statistic):           3.30e-23\n",
       "Time:                        10:49:25   Log-Likelihood:            -2.3827e+05\n",
       "No. Observations:               55148   AIC:                         4.765e+05\n",
       "Df Residuals:                   55145   BIC:                         4.766e+05\n",
       "Df Model:                           2                                         \n",
       "Covariance Type:            nonrobust                                         \n",
       "=====================================================================================\n",
       "                        coef    std err          t      P>|t|      [0.025      0.975]\n",
       "-------------------------------------------------------------------------------------\n",
       "Intercept           132.5812      0.391    338.927      0.000     131.815     133.348\n",
       "C(gender)[T.male]     0.2940      0.159      1.852      0.064      -0.017       0.605\n",
       "age_years             0.0637      0.006      9.944      0.000       0.051       0.076\n",
       "==============================================================================\n",
       "Omnibus:                     4387.054   Durbin-Watson:                   1.997\n",
       "Prob(Omnibus):                  0.000   Jarque-Bera (JB):             7684.979\n",
       "Skew:                           0.584   Prob(JB):                         0.00\n",
       "Kurtosis:                       4.408   Cond. No.                         306.\n",
       "==============================================================================\n",
       "\n",
       "Warnings:\n",
       "[1] Standard Errors assume that the covariance matrix of the errors is correctly specified.\n",
       "\"\"\""
      ]
     },
     "execution_count": 13,
     "metadata": {},
     "output_type": "execute_result"
    }
   ],
   "source": [
    "smf.ols(\"systolic_bp ~ age_years + C(gender)\", data=smf_data).fit().summary()"
   ]
  },
  {
   "cell_type": "markdown",
   "metadata": {},
   "source": [
    "You can now extedn this model to try to understand what the impact of for example Region, BMI or visit type has on the BP of the patients"
   ]
  },
  {
   "cell_type": "code",
   "execution_count": 14,
   "metadata": {},
   "outputs": [
    {
     "data": {
      "text/html": [
       "<table class=\"simpletable\">\n",
       "<caption>OLS Regression Results</caption>\n",
       "<tr>\n",
       "  <th>Dep. Variable:</th>       <td>systolic_bp</td>   <th>  R-squared:         </th>  <td>   0.044</td>  \n",
       "</tr>\n",
       "<tr>\n",
       "  <th>Model:</th>                   <td>OLS</td>       <th>  Adj. R-squared:    </th>  <td>   0.043</td>  \n",
       "</tr>\n",
       "<tr>\n",
       "  <th>Method:</th>             <td>Least Squares</td>  <th>  F-statistic:       </th>  <td>   83.64</td>  \n",
       "</tr>\n",
       "<tr>\n",
       "  <th>Date:</th>             <td>Fri, 22 Sep 2017</td> <th>  Prob (F-statistic):</th>  <td>4.13e-302</td> \n",
       "</tr>\n",
       "<tr>\n",
       "  <th>Time:</th>                 <td>10:50:40</td>     <th>  Log-Likelihood:    </th> <td>-1.4142e+05</td>\n",
       "</tr>\n",
       "<tr>\n",
       "  <th>No. Observations:</th>      <td> 32915</td>      <th>  AIC:               </th>  <td>2.829e+05</td> \n",
       "</tr>\n",
       "<tr>\n",
       "  <th>Df Residuals:</th>          <td> 32896</td>      <th>  BIC:               </th>  <td>2.830e+05</td> \n",
       "</tr>\n",
       "<tr>\n",
       "  <th>Df Model:</th>              <td>    18</td>      <th>                     </th>      <td> </td>     \n",
       "</tr>\n",
       "<tr>\n",
       "  <th>Covariance Type:</th>      <td>nonrobust</td>    <th>                     </th>      <td> </td>     \n",
       "</tr>\n",
       "</table>\n",
       "<table class=\"simpletable\">\n",
       "<tr>\n",
       "              <td></td>                 <th>coef</th>     <th>std err</th>      <th>t</th>      <th>P>|t|</th>  <th>[0.025</th>    <th>0.975]</th>  \n",
       "</tr>\n",
       "<tr>\n",
       "  <th>Intercept</th>                 <td>  130.6391</td> <td>    0.670</td> <td>  195.129</td> <td> 0.000</td> <td>  129.327</td> <td>  131.951</td>\n",
       "</tr>\n",
       "<tr>\n",
       "  <th>C(gender)[T.male]</th>         <td>    0.1630</td> <td>    0.202</td> <td>    0.809</td> <td> 0.419</td> <td>   -0.232</td> <td>    0.558</td>\n",
       "</tr>\n",
       "<tr>\n",
       "  <th>C(region)[T.Amman]</th>        <td>    1.1614</td> <td>    0.453</td> <td>    2.566</td> <td> 0.010</td> <td>    0.274</td> <td>    2.048</td>\n",
       "</tr>\n",
       "<tr>\n",
       "  <th>C(region)[T.Aqaba]</th>        <td>    8.6811</td> <td>    1.151</td> <td>    7.545</td> <td> 0.000</td> <td>    6.426</td> <td>   10.936</td>\n",
       "</tr>\n",
       "<tr>\n",
       "  <th>C(region)[T.Balqa]</th>        <td>    3.0789</td> <td>    0.449</td> <td>    6.856</td> <td> 0.000</td> <td>    2.199</td> <td>    3.959</td>\n",
       "</tr>\n",
       "<tr>\n",
       "  <th>C(region)[T.Irbid]</th>        <td>    4.2972</td> <td>    0.475</td> <td>    9.042</td> <td> 0.000</td> <td>    3.366</td> <td>    5.229</td>\n",
       "</tr>\n",
       "<tr>\n",
       "  <th>C(region)[T.Jarash]</th>       <td>    3.6779</td> <td>    0.643</td> <td>    5.721</td> <td> 0.000</td> <td>    2.418</td> <td>    4.938</td>\n",
       "</tr>\n",
       "<tr>\n",
       "  <th>C(region)[T.Karak]</th>        <td>    3.2035</td> <td>    0.487</td> <td>    6.575</td> <td> 0.000</td> <td>    2.249</td> <td>    4.158</td>\n",
       "</tr>\n",
       "<tr>\n",
       "  <th>C(region)[T.Ma'an]</th>        <td>   -7.0833</td> <td>    1.347</td> <td>   -5.257</td> <td> 0.000</td> <td>   -9.724</td> <td>   -4.442</td>\n",
       "</tr>\n",
       "<tr>\n",
       "  <th>C(region)[T.Madaba]</th>       <td>    0.7075</td> <td>    0.561</td> <td>    1.260</td> <td> 0.208</td> <td>   -0.393</td> <td>    1.808</td>\n",
       "</tr>\n",
       "<tr>\n",
       "  <th>C(region)[T.Mafraq]</th>       <td>    0.7922</td> <td>    0.813</td> <td>    0.974</td> <td> 0.330</td> <td>   -0.801</td> <td>    2.386</td>\n",
       "</tr>\n",
       "<tr>\n",
       "  <th>C(region)[T.Petra]</th>        <td>   11.4492</td> <td>    1.282</td> <td>    8.932</td> <td> 0.000</td> <td>    8.937</td> <td>   13.962</td>\n",
       "</tr>\n",
       "<tr>\n",
       "  <th>C(region)[T.Ramtha]</th>       <td>    5.9535</td> <td>    0.810</td> <td>    7.354</td> <td> 0.000</td> <td>    4.367</td> <td>    7.540</td>\n",
       "</tr>\n",
       "<tr>\n",
       "  <th>C(region)[T.Tafeileh]</th>     <td>   12.0997</td> <td>    0.890</td> <td>   13.590</td> <td> 0.000</td> <td>   10.355</td> <td>   13.845</td>\n",
       "</tr>\n",
       "<tr>\n",
       "  <th>C(region)[T.Zarqa]</th>        <td>    8.5555</td> <td>    0.485</td> <td>   17.627</td> <td> 0.000</td> <td>    7.604</td> <td>    9.507</td>\n",
       "</tr>\n",
       "<tr>\n",
       "  <th>C(visit_type)[T.referral]</th> <td>   -4.4065</td> <td>    2.657</td> <td>   -1.658</td> <td> 0.097</td> <td>   -9.614</td> <td>    0.801</td>\n",
       "</tr>\n",
       "<tr>\n",
       "  <th>C(visit_type)[T.return]</th>   <td>   -4.9424</td> <td>    0.212</td> <td>  -23.260</td> <td> 0.000</td> <td>   -5.359</td> <td>   -4.526</td>\n",
       "</tr>\n",
       "<tr>\n",
       "  <th>age_years</th>                 <td>    0.0777</td> <td>    0.008</td> <td>    9.570</td> <td> 0.000</td> <td>    0.062</td> <td>    0.094</td>\n",
       "</tr>\n",
       "<tr>\n",
       "  <th>bmi</th>                       <td>    0.0159</td> <td>    0.006</td> <td>    2.570</td> <td> 0.010</td> <td>    0.004</td> <td>    0.028</td>\n",
       "</tr>\n",
       "</table>\n",
       "<table class=\"simpletable\">\n",
       "<tr>\n",
       "  <th>Omnibus:</th>       <td>2709.408</td> <th>  Durbin-Watson:     </th> <td>   1.993</td>\n",
       "</tr>\n",
       "<tr>\n",
       "  <th>Prob(Omnibus):</th>  <td> 0.000</td>  <th>  Jarque-Bera (JB):  </th> <td>5045.599</td>\n",
       "</tr>\n",
       "<tr>\n",
       "  <th>Skew:</th>           <td> 0.580</td>  <th>  Prob(JB):          </th> <td>    0.00</td>\n",
       "</tr>\n",
       "<tr>\n",
       "  <th>Kurtosis:</th>       <td> 4.528</td>  <th>  Cond. No.          </th> <td>1.86e+03</td>\n",
       "</tr>\n",
       "</table>"
      ],
      "text/plain": [
       "<class 'statsmodels.iolib.summary.Summary'>\n",
       "\"\"\"\n",
       "                            OLS Regression Results                            \n",
       "==============================================================================\n",
       "Dep. Variable:            systolic_bp   R-squared:                       0.044\n",
       "Model:                            OLS   Adj. R-squared:                  0.043\n",
       "Method:                 Least Squares   F-statistic:                     83.64\n",
       "Date:                Fri, 22 Sep 2017   Prob (F-statistic):          4.13e-302\n",
       "Time:                        10:50:40   Log-Likelihood:            -1.4142e+05\n",
       "No. Observations:               32915   AIC:                         2.829e+05\n",
       "Df Residuals:                   32896   BIC:                         2.830e+05\n",
       "Df Model:                          18                                         \n",
       "Covariance Type:            nonrobust                                         \n",
       "=============================================================================================\n",
       "                                coef    std err          t      P>|t|      [0.025      0.975]\n",
       "---------------------------------------------------------------------------------------------\n",
       "Intercept                   130.6391      0.670    195.129      0.000     129.327     131.951\n",
       "C(gender)[T.male]             0.1630      0.202      0.809      0.419      -0.232       0.558\n",
       "C(region)[T.Amman]            1.1614      0.453      2.566      0.010       0.274       2.048\n",
       "C(region)[T.Aqaba]            8.6811      1.151      7.545      0.000       6.426      10.936\n",
       "C(region)[T.Balqa]            3.0789      0.449      6.856      0.000       2.199       3.959\n",
       "C(region)[T.Irbid]            4.2972      0.475      9.042      0.000       3.366       5.229\n",
       "C(region)[T.Jarash]           3.6779      0.643      5.721      0.000       2.418       4.938\n",
       "C(region)[T.Karak]            3.2035      0.487      6.575      0.000       2.249       4.158\n",
       "C(region)[T.Ma'an]           -7.0833      1.347     -5.257      0.000      -9.724      -4.442\n",
       "C(region)[T.Madaba]           0.7075      0.561      1.260      0.208      -0.393       1.808\n",
       "C(region)[T.Mafraq]           0.7922      0.813      0.974      0.330      -0.801       2.386\n",
       "C(region)[T.Petra]           11.4492      1.282      8.932      0.000       8.937      13.962\n",
       "C(region)[T.Ramtha]           5.9535      0.810      7.354      0.000       4.367       7.540\n",
       "C(region)[T.Tafeileh]        12.0997      0.890     13.590      0.000      10.355      13.845\n",
       "C(region)[T.Zarqa]            8.5555      0.485     17.627      0.000       7.604       9.507\n",
       "C(visit_type)[T.referral]    -4.4065      2.657     -1.658      0.097      -9.614       0.801\n",
       "C(visit_type)[T.return]      -4.9424      0.212    -23.260      0.000      -5.359      -4.526\n",
       "age_years                     0.0777      0.008      9.570      0.000       0.062       0.094\n",
       "bmi                           0.0159      0.006      2.570      0.010       0.004       0.028\n",
       "==============================================================================\n",
       "Omnibus:                     2709.408   Durbin-Watson:                   1.993\n",
       "Prob(Omnibus):                  0.000   Jarque-Bera (JB):             5045.599\n",
       "Skew:                           0.580   Prob(JB):                         0.00\n",
       "Kurtosis:                       4.528   Cond. No.                     1.86e+03\n",
       "==============================================================================\n",
       "\n",
       "Warnings:\n",
       "[1] Standard Errors assume that the covariance matrix of the errors is correctly specified.\n",
       "[2] The condition number is large, 1.86e+03. This might indicate that there are\n",
       "strong multicollinearity or other numerical problems.\n",
       "\"\"\""
      ]
     },
     "execution_count": 14,
     "metadata": {},
     "output_type": "execute_result"
    }
   ],
   "source": [
    "smf.ols(\"systolic_bp ~ age_years + C(gender) + C(region) + bmi + C(visit_type)\", data=smf_data).fit().summary()"
   ]
  },
  {
   "cell_type": "code",
   "execution_count": null,
   "metadata": {},
   "outputs": [],
   "source": []
  }
 ],
 "metadata": {
  "kernelspec": {
   "display_name": "Python 3",
   "language": "python",
   "name": "python3"
  },
  "language_info": {
   "codemirror_mode": {
    "name": "ipython",
    "version": 3
   },
   "file_extension": ".py",
   "mimetype": "text/x-python",
   "name": "python",
   "nbconvert_exporter": "python",
   "pygments_lexer": "ipython3",
   "version": "3.6.0"
  }
 },
 "nbformat": 4,
 "nbformat_minor": 2
}
