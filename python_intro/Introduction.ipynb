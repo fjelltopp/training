{
 "cells": [
  {
   "cell_type": "markdown",
   "metadata": {},
   "source": [
    "# Introduction to python\n",
    "\n",
    "This notebook will teach the basics of python syntax through examples and excersies. There exists many different python tutorials, a good collection is here: https://wiki.python.org/moin/BeginnersGuide/Programmers\n",
    "\n",
    "\n"
   ]
  },
  {
   "cell_type": "markdown",
   "metadata": {},
   "source": [
    "We start by running a simple Hello, World! program. To execute a cell in a jupyter notebook, select it and press shift+enter"
   ]
  },
  {
   "cell_type": "code",
   "execution_count": null,
   "metadata": {
    "collapsed": false,
    "scrolled": true
   },
   "outputs": [],
   "source": [
    "print(\"Hello, World!\")"
   ]
  },
  {
   "cell_type": "markdown",
   "metadata": {},
   "source": [
    "# Basic python syntax\n",
    "We will start with a quick run trough of the basic syntax of the python programming language\n",
    "\n",
    "In python the \"#\" symbol specifies what follows it as a comment. This will not be executed it is just there to annotate the code\n",
    "\n",
    "1. Simple calculations\n",
    "2. Variables\n",
    "3. Conditionals\n",
    "4. Lists\n",
    "5. Loops\n",
    "6. Dictionaries\n",
    "7. Functions and modules"
   ]
  },
  {
   "cell_type": "markdown",
   "metadata": {},
   "source": [
    "## Simple calculations\n",
    "\n",
    "In python we can simply perform standard arethmetic functions. In a jupyter notebook, the output of the final line of the cell will be returned as the output. "
   ]
  },
  {
   "cell_type": "code",
   "execution_count": null,
   "metadata": {
    "collapsed": false
   },
   "outputs": [],
   "source": [
    "5 + 3"
   ]
  },
  {
   "cell_type": "code",
   "execution_count": null,
   "metadata": {
    "collapsed": false
   },
   "outputs": [],
   "source": [
    "9 + 16"
   ]
  },
  {
   "cell_type": "markdown",
   "metadata": {},
   "source": [
    "### Excercise:\n",
    "calculate 400 * 321"
   ]
  },
  {
   "cell_type": "code",
   "execution_count": null,
   "metadata": {
    "collapsed": true
   },
   "outputs": [],
   "source": []
  },
  {
   "cell_type": "markdown",
   "metadata": {},
   "source": [
    "## Variables\n",
    "\n",
    "To move forward we can define variables by using the assignment operator \"=\". We can then use these variables to perform for example arithmetic"
   ]
  },
  {
   "cell_type": "code",
   "execution_count": null,
   "metadata": {
    "collapsed": false
   },
   "outputs": [],
   "source": [
    "height = 1.8\n",
    "weight = 78\n",
    "\n",
    "weight / height ** 2"
   ]
  },
  {
   "cell_type": "code",
   "execution_count": null,
   "metadata": {
    "collapsed": false
   },
   "outputs": [],
   "source": [
    "# This is a comment\n",
    "# We can store the result of calculation in a new variable\n",
    "\n",
    "bmi = weight / height ** 2\n",
    "bmi"
   ]
  },
  {
   "cell_type": "markdown",
   "metadata": {},
   "source": [
    "### Variable types\n",
    "\n",
    "In python there are multiple types of variables describing different types of data. Three of the basic types are:\n",
    "\n",
    "* string: Describes text data\n",
    "* int: Describes integer numbers\n",
    "* float: Describes floating point numbers\n",
    "\n",
    "Python is a dynamically typed language. This means that we do not have to declear the type of the variable when we createit, butw e still need to be careful about for example combining different types of variables\n"
   ]
  },
  {
   "cell_type": "code",
   "execution_count": null,
   "metadata": {
    "collapsed": false
   },
   "outputs": [],
   "source": [
    "string_variable = \"test\" # A string\n",
    "int_variable = 4 # An intenger\n",
    "float_variable = 3.14 # a floating point number\n",
    "\n",
    "print(int_variable + 4) # As we want to print out multiple things from this cell we use the print() statement\n",
    "print(string_variable + \" again\")"
   ]
  },
  {
   "cell_type": "code",
   "execution_count": null,
   "metadata": {
    "collapsed": false
   },
   "outputs": [],
   "source": [
    "# We can use the type() function to determine the type of the variable\n",
    "\n",
    "print(type(string_variable))\n",
    "print(type(int_variable))\n",
    "print(type(float_variable))"
   ]
  },
  {
   "cell_type": "code",
   "execution_count": null,
   "metadata": {
    "collapsed": false
   },
   "outputs": [],
   "source": [
    "# Sometimes python can convert between types automatically as in the BMI example above\n",
    "print(type(height))\n",
    "print(type(weight))\n",
    "print(type(bmi)) \n",
    "\n",
    "# Other times not\n",
    "\n",
    "string_variable + int_variable # This line will give a python error\n",
    "\n"
   ]
  },
  {
   "cell_type": "markdown",
   "metadata": {},
   "source": [
    "When writing python code we very often will run into this error messages. The errors come in many different types and learning to understand these messages can help the development process significantly. Normally the description at the end can give a lot of information. Here we see that we can not add an interger with a string"
   ]
  },
  {
   "cell_type": "code",
   "execution_count": null,
   "metadata": {
    "collapsed": false
   },
   "outputs": [],
   "source": [
    "# If we wanted to create the string \"test4\" we need to explicitly convert the initeger to a string\n",
    "\n",
    "print(string_variable + str(int_variable))\n",
    "\n",
    "# We can also convert from string to integer or float\n",
    "\n",
    "print(float(\"3.14\")**2) \n"
   ]
  },
  {
   "cell_type": "markdown",
   "metadata": {},
   "source": [
    "### Excersice: \n",
    "\n",
    "Create variables for the two sides of a rectangle and calculate the area (area = side_1 x side_2) and store that in a third variable. Set side_1 to 5 and side_2 to 8."
   ]
  },
  {
   "cell_type": "code",
   "execution_count": null,
   "metadata": {
    "collapsed": true
   },
   "outputs": [],
   "source": []
  },
  {
   "cell_type": "markdown",
   "metadata": {},
   "source": [
    "## Conditionals\n",
    "\n",
    "To create branches in the execution of the program we use conditionals. \n",
    "\n",
    "We start by consider a fourth data type in python. The bool type. It can only be either True or False.\n",
    "\n",
    "Logical comparrissons in python are as follows:"
   ]
  },
  {
   "cell_type": "code",
   "execution_count": null,
   "metadata": {
    "collapsed": false
   },
   "outputs": [],
   "source": [
    "t = True # Boolean true\n",
    "f = False # Boolean false\n",
    "print(type(t))\n",
    "\n",
    "print(\"Equality \" ,\"test\" == \"test\") # Test for equality with ==\n",
    "print(\"Not Equal \" ,\"test\" != \"test\") # Test for not equal with !=\n",
    "\n",
    "print(\"And \", t and f) # Boolean and\n",
    "\n",
    "print(\"Or \", t or f) # Boolean or"
   ]
  },
  {
   "cell_type": "code",
   "execution_count": null,
   "metadata": {
    "collapsed": false
   },
   "outputs": [],
   "source": [
    "# Some more examples\n",
    "\n",
    "print(\"3 == 3 is\", 3 == 3)\n",
    "print('\"3\" = 3 is',\"3\" == 3) # This will be false as \"3\" is a string and 3 is an integer\n",
    "\n",
    "print (\"3 > 2 is\", 3 > 2) # Larger than\n",
    "print (\"2 >= 2 is\", 2 >= 2) # Larger than or equal\n",
    "print(\"2 < 3 is\",2 < 3) # Smaller than\n",
    "print(\"3 <= 2 is\",3 <= 2) # Smaller than or equal\n"
   ]
  },
  {
   "cell_type": "markdown",
   "metadata": {},
   "source": [
    "## If statements\n",
    "\n",
    "In python we use the if-else statements to branch the execution of the program. The if-else statement looks like this: \n",
    "\n",
    "\n",
    "    if expression:\n",
    "        action_if_true\n",
    "    else:\n",
    "        action_if_false\n",
    "Note that in python we use indentation(4 spaces) instead of {} to denote what belongs to a block."
   ]
  },
  {
   "cell_type": "code",
   "execution_count": null,
   "metadata": {
    "collapsed": false
   },
   "outputs": [],
   "source": [
    "name = \"Rania\"\n",
    "if name == \"Rania\":\n",
    "    print(\"Hi Rania\")\n",
    "else:\n",
    "    print(\"Who are you?\")"
   ]
  },
  {
   "cell_type": "code",
   "execution_count": null,
   "metadata": {
    "collapsed": false
   },
   "outputs": [],
   "source": [
    "name = \"John\"\n",
    "if name == \"Rania\":\n",
    "    print(\"Hi Rania\")\n",
    "else:\n",
    "    print(\"Who are you?\")"
   ]
  },
  {
   "cell_type": "markdown",
   "metadata": {},
   "source": [
    "If we need to check for multiple conditions we can use the if - elif- else consturction. \n",
    "\n",
    "\n",
    "    if expression1:\n",
    "        action_if_true1\n",
    "    elif expression2:\n",
    "        action_if_true2\n",
    "      .\n",
    "      .\n",
    "      .        \n",
    "    else:\n",
    "        action_if_false\n",
    "        \n",
    "We can use as many elif statements as we need. This code first tests if expression1 is true. If so it perfroms action_if_true1 and then the whole block is finished. If expression1 is false, expression2 is tested. If expression2 is true we do action_if_true2 etc. "
   ]
  },
  {
   "cell_type": "code",
   "execution_count": null,
   "metadata": {
    "collapsed": false
   },
   "outputs": [],
   "source": [
    "name = \"Gunnar\"\n",
    "if name == \"Rania\":\n",
    "    print(\"Hi Rania\")\n",
    "elif name == \"Gunnar\":\n",
    "    print(\"Hi Gunnar\")\n",
    "else:\n",
    "    print(\"Who are you?\")\n"
   ]
  },
  {
   "cell_type": "markdown",
   "metadata": {},
   "source": [
    "### Excercise\n",
    "\n",
    "Write an if statements that prints out \"Positive\" if a number is larger than 0, prints out 0 if the number is 0 and \"Negative\" if he number is negative. "
   ]
  },
  {
   "cell_type": "code",
   "execution_count": null,
   "metadata": {
    "collapsed": true
   },
   "outputs": [],
   "source": []
  },
  {
   "cell_type": "markdown",
   "metadata": {},
   "source": [
    "## Lists\n",
    "\n",
    "To store multiple objects in a list we use the python type: list. A list is defined using square brakcekts []"
   ]
  },
  {
   "cell_type": "code",
   "execution_count": null,
   "metadata": {
    "collapsed": false
   },
   "outputs": [],
   "source": [
    "l = [1, 5, 9] # Defining a list\n",
    "print(l)\n",
    "print(type(l))"
   ]
  },
  {
   "cell_type": "markdown",
   "metadata": {},
   "source": [
    "We can access the elements of a list using the following syntax:\n",
    "\n",
    "    l[0]\n",
    "    \n",
    "The number in the brackets refer to the position in the list, with 0 being the first item"
   ]
  },
  {
   "cell_type": "code",
   "execution_count": null,
   "metadata": {
    "collapsed": false
   },
   "outputs": [],
   "source": [
    "l = [1, 5, 9]\n",
    "print(\"First element\", l[0])\n",
    "print(\"Second element\", l[1])\n",
    "print(\"Thrid element\", l[2])"
   ]
  },
  {
   "cell_type": "code",
   "execution_count": null,
   "metadata": {
    "collapsed": false
   },
   "outputs": [],
   "source": [
    "# If we try to access an element that does not exist we get an error\n",
    "\n",
    "print(l[5])"
   ]
  },
  {
   "cell_type": "code",
   "execution_count": null,
   "metadata": {
    "collapsed": false
   },
   "outputs": [],
   "source": [
    "# We can edit individual elements in the list by assigning to them\n",
    "\n",
    "l2 = [\"a\", \"b\", \"c\"]\n",
    "print(l2)\n",
    "l2[1] = \"d\"\n",
    "print(l2)"
   ]
  },
  {
   "cell_type": "markdown",
   "metadata": {},
   "source": [
    "Lists have various useful fuctions that can be used to manipulate them. To see all you can use the python documentation at https://docs.python.org/3/library/stdtypes.html#mutable-sequence-types"
   ]
  },
  {
   "cell_type": "code",
   "execution_count": null,
   "metadata": {
    "collapsed": false
   },
   "outputs": [],
   "source": [
    "l = [\"a\", \"b\"]\n",
    "print(l)\n",
    "l.append(\"c\") # add an element to the end of the list\n",
    "print(l)\n",
    "l.remove(\"b\") # Removes the element \"b\" from the list\n",
    "print(l)\n",
    "print(len(l)) # len(l) gives the length of a list"
   ]
  },
  {
   "cell_type": "markdown",
   "metadata": {},
   "source": [
    "## Loops\n",
    "\n",
    "In python we have two types of loops a for loop and a while loop. \n",
    "\n",
    "### For loop\n",
    "The structure of a for loop is as follows: \n",
    "    for item in list:\n",
    "        action\n",
    "So a for loop is used to iterate over each item in a list( or other similar data type)"
   ]
  },
  {
   "cell_type": "code",
   "execution_count": null,
   "metadata": {
    "collapsed": false
   },
   "outputs": [],
   "source": [
    "developers = [\"Jonathan\", \"Jyri\", \"Mix\", \"Gunnar\"]\n",
    "\n",
    "for developer in developers:\n",
    "    print(developer)"
   ]
  },
  {
   "cell_type": "markdown",
   "metadata": {},
   "source": [
    "Often we want to loop a certain number of times. Then pythons range function is very useful. This function returns a generetor (almost a list) of all the integers. "
   ]
  },
  {
   "cell_type": "code",
   "execution_count": null,
   "metadata": {
    "collapsed": false
   },
   "outputs": [],
   "source": [
    "print(list(range(10))) # We need the extra list command as range returns a generator\n",
    "# range(a) returns all the integers starting at 0 and ending a a-1\n",
    "# We can also use range(3,6) to return the integer 3,4,5"
   ]
  },
  {
   "cell_type": "code",
   "execution_count": null,
   "metadata": {
    "collapsed": false
   },
   "outputs": [],
   "source": [
    "for i in range(3,10): \n",
    "    print(i)"
   ]
  },
  {
   "cell_type": "markdown",
   "metadata": {},
   "source": [
    "### Excercise\n",
    "Write a cell that calculates the sum of all the numbers less than 100"
   ]
  },
  {
   "cell_type": "code",
   "execution_count": null,
   "metadata": {
    "collapsed": false
   },
   "outputs": [],
   "source": []
  },
  {
   "cell_type": "markdown",
   "metadata": {},
   "source": [
    "### While loop\n",
    "\n",
    "A while loop is used to run a loop for as long as a condition is true. It has this structure:\n",
    "\n",
    "    while condition: \n",
    "        action\n",
    "        \n",
    "For example"
   ]
  },
  {
   "cell_type": "code",
   "execution_count": null,
   "metadata": {
    "collapsed": false
   },
   "outputs": [],
   "source": [
    "i = 0\n",
    "while i < 10:\n",
    "    print(i)\n",
    "    i = i + 1 # We can also write this as i += 1"
   ]
  },
  {
   "cell_type": "code",
   "execution_count": null,
   "metadata": {
    "collapsed": false
   },
   "outputs": [],
   "source": [
    "while True:\n",
    "    number = int(input(\"Input a number and I will double it, type 0 to quit \"))\n",
    "    # We add the int() function as input returns a string\n",
    "    if number == 0:\n",
    "        break # We can use break to break out of a loop\n",
    "    print(number * 2)"
   ]
  },
  {
   "cell_type": "markdown",
   "metadata": {},
   "source": [
    "### Excersice\n",
    "\n",
    "Finish the code below to print out all the numbers from the number the user entered to 0"
   ]
  },
  {
   "cell_type": "code",
   "execution_count": null,
   "metadata": {
    "collapsed": false
   },
   "outputs": [],
   "source": [
    "num = int(input(\"Type in a number \"))\n",
    "\n",
    "# Your code goes here: "
   ]
  },
  {
   "cell_type": "markdown",
   "metadata": {},
   "source": [
    "### Dictionaries\n",
    "\n",
    "Often we want have a data type were we can store key:value pairs. In python we can do this with a dictionary. This is useful and also a very effecient way of storing and retreiving data"
   ]
  },
  {
   "cell_type": "code",
   "execution_count": null,
   "metadata": {
    "collapsed": false
   },
   "outputs": [],
   "source": [
    "dictionary = {\"key1\": 3, \"key2\": 5} # Defining a dictionary\n",
    "print(dictionary)\n",
    "print(type(dictionary))\n",
    "\n",
    "# We can access items in the same was as for lists:\n",
    "\n",
    "print(dictionary[\"key1\"])"
   ]
  },
  {
   "cell_type": "markdown",
   "metadata": {
    "collapsed": true
   },
   "source": [
    "Note that a dictionary is an unordered data type. So we can not expect a particular order if we want to loop through the dictionary"
   ]
  },
  {
   "cell_type": "code",
   "execution_count": null,
   "metadata": {
    "collapsed": false
   },
   "outputs": [],
   "source": [
    "for d in dictionary: # Loops through the keys\n",
    "    print(d)\n",
    "    \n",
    "for d in dictionary.values(): #Looping through the values\n",
    "    print(d)"
   ]
  },
  {
   "cell_type": "markdown",
   "metadata": {},
   "source": [
    "For both dictionaries and list it is easy to test if an element exists by using the in operator"
   ]
  },
  {
   "cell_type": "code",
   "execution_count": null,
   "metadata": {
    "collapsed": false
   },
   "outputs": [],
   "source": [
    "d = {\"key1\": \"a\"}\n",
    "\n",
    "print(\"key1 in d\", \"key1\" in d)\n",
    "print(\"key2 in d\", \"key2\" in d)\n",
    "\n",
    "l = [1, 4]\n",
    "print(\"4 in l\", 4 in l)\n",
    "print(\"2 in l\", 2 in l)"
   ]
  },
  {
   "cell_type": "markdown",
   "metadata": {},
   "source": [
    "### Excersice\n",
    "\n",
    "Write a short program that takes the list l below and calculates a dictionary that counts the number of duplicates in l with the keys being the valus. I.e if l = [1, 1, 5] the dictionary should be {1: 2, 5: 1} as we had two ones and one five. "
   ]
  },
  {
   "cell_type": "code",
   "execution_count": null,
   "metadata": {
    "collapsed": true
   },
   "outputs": [],
   "source": [
    "\n",
    "l = [1,2,3,5,5,2,7,1,1,1]\n",
    "d = {}\n",
    "\n",
    "# Your code goes here\n"
   ]
  },
  {
   "cell_type": "markdown",
   "metadata": {},
   "source": [
    "## Functions and modules\n",
    "\n",
    "To write resulable code and to structure our programs we write code in functions. A function is defined as follows in python: \n",
    "\n",
    "    def function_name(argument1, argument2, ...):\n",
    "        \"\"\" Docstring\"\"\"\n",
    "       actions\n",
    "       return return_value\n",
    "       \n",
    "The function take arguments are return values ( We can have a function without arguments and that does not return anything)\n",
    "\n",
    "The docstring is a string describing the function\n",
    "\n",
    "To call the function we use the the following syntax\n",
    "\n",
    "    result = function_name(argument1, argument2, ...)\n",
    "    \n",
    "There have been numerous examples of functions in the code above. For exmaple the len() function took a list as an argument and returned the length."
   ]
  },
  {
   "cell_type": "code",
   "execution_count": null,
   "metadata": {
    "collapsed": false
   },
   "outputs": [],
   "source": [
    "def double(x):\n",
    "    \"\"\" Doubles the input value\"\"\"\n",
    "    return x * 2\n",
    "\n",
    "print(double(4))\n",
    "print(double(17))"
   ]
  },
  {
   "cell_type": "code",
   "execution_count": null,
   "metadata": {
    "collapsed": false
   },
   "outputs": [],
   "source": [
    "def alternative_len(l):\n",
    "    \"\"\"Calculates the length of a list\"\"\"\n",
    "    length = 0\n",
    "    for _ in l:\n",
    "        length += 1\n",
    "    return length\n",
    "\n",
    "l = list(range(20,400))\n",
    "\n",
    "print(\"Normal len\", len(l))\n",
    "print(\"Alternative len\", alternative_len(l))"
   ]
  },
  {
   "cell_type": "markdown",
   "metadata": {},
   "source": [
    "### Modules and packages\n",
    "\n",
    "Python has an extensive number of libraries and packages that perform various actions. If they are installed they can be imported like this: \n",
    "\n",
    "    import math # imports the math modules\n",
    "    from math import pi # imports pi from the math module"
   ]
  },
  {
   "cell_type": "code",
   "execution_count": null,
   "metadata": {
    "collapsed": false
   },
   "outputs": [],
   "source": [
    "import math\n",
    "\n",
    "print(math.pi)"
   ]
  },
  {
   "cell_type": "markdown",
   "metadata": {},
   "source": [
    "Many very useful stanrd libraries can be found at : https://docs.python.org/3/library/\n",
    "\n",
    "There is also a hugh set of available libraries at https://pypi.python.org/pypi. These libraries can be installed using pip (https://docs.python.org/3/installing/)"
   ]
  },
  {
   "cell_type": "markdown",
   "metadata": {},
   "source": [
    "## Excersice\n",
    "\n",
    "Write a function that takes the height and weight as a an argument and returns \"normal\" if the bmi < 25, \"overweight\" if the 25 < bmi < 30 and \"obese\" if bmi > 30"
   ]
  },
  {
   "cell_type": "code",
   "execution_count": null,
   "metadata": {
    "collapsed": true
   },
   "outputs": [],
   "source": []
  },
  {
   "cell_type": "markdown",
   "metadata": {},
   "source": [
    "## Extra: List comprehension\n",
    "\n",
    "One often wants to create a list by looping through some values and performing some action on them. This can be implified in python using the list comprehension syntax. So we can define a list like this: \n"
   ]
  },
  {
   "cell_type": "code",
   "execution_count": null,
   "metadata": {
    "collapsed": false
   },
   "outputs": [],
   "source": [
    "double = [x * 2 for x in range(10)]\n",
    "double"
   ]
  },
  {
   "cell_type": "code",
   "execution_count": null,
   "metadata": {
    "collapsed": false
   },
   "outputs": [],
   "source": [
    "# or a list of sine values\n",
    "from math import sin, pi\n",
    "\n",
    "sin_values = [sin(pi * i / 4) for i in range(9)]\n",
    "sin_values"
   ]
  }
 ],
 "metadata": {
  "anaconda-cloud": {},
  "kernelspec": {
   "display_name": "Python 3",
   "language": "python",
   "name": "python3"
  },
  "language_info": {
   "codemirror_mode": {
    "name": "ipython",
    "version": 3
   },
   "file_extension": ".py",
   "mimetype": "text/x-python",
   "name": "python",
   "nbconvert_exporter": "python",
   "pygments_lexer": "ipython3",
   "version": "3.6.0"
  }
 },
 "nbformat": 4,
 "nbformat_minor": 1
}
