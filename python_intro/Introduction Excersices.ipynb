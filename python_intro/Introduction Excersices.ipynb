{
 "cells": [
  {
   "cell_type": "markdown",
   "metadata": {
    "nbpresent": {
     "id": "2b04c3f4-d4bf-41c8-967e-80161a7a2243"
    }
   },
   "source": [
    "# Excersies\n",
    "\n",
    "Here follows some excersies to practise the basic python syntax."
   ]
  },
  {
   "cell_type": "markdown",
   "metadata": {
    "nbpresent": {
     "id": "82acefc8-ef28-49e1-9a26-2644a2216403"
    }
   },
   "source": [
    "## Excersice 1\n",
    "\n",
    "Write a functions that reverses a string. So if the input is \"function\" the output should be \"noitcunf\". \n",
    "\n",
    "It is possible to loop through the characters in a string in a standard for loop and the len() function will return the length of the string. "
   ]
  },
  {
   "cell_type": "code",
   "execution_count": null,
   "metadata": {
    "collapsed": false,
    "nbpresent": {
     "id": "f992eed9-fe77-49cf-b1e3-84c95e475349"
    }
   },
   "outputs": [],
   "source": [
    "def reverse_string(string):\n",
    "    \"\"\"Reverses the string\"\"\"\n",
    "    result = \"\"\n",
    "    # your code goes here\n",
    "\n",
    "    return result\n",
    "\n",
    "\n",
    "if \"noitcunf\" == reverse_string(\"function\"):\n",
    "    print(\"Excersice solved (at least for this input. You should check you function works for other values too)\")\n",
    "else:\n",
    "    print(\"Not working\")"
   ]
  },
  {
   "cell_type": "markdown",
   "metadata": {
    "nbpresent": {
     "id": "a0496bf4-a8e8-48dc-80c6-523174218457"
    }
   },
   "source": [
    "## Excersice 2\n",
    "\n",
    "Reading data from a csv file and calculating the average value of BMI\n",
    "\n",
    "The structure of the file is \n",
    "\n",
    "height, weight\n",
    "1.8, 43\n",
    "\n",
    "\n",
    "To read a file in python we can use the open() function and it is normal to di it like this:\n",
    "\n",
    "    with open(filename) as f:\n",
    "       read_file\n",
    "The file object has multiple way of reading the content. Either f.read(), this will return the whole file content or it is possible to loop through all the lines in the file as this:\n",
    "\n",
    "    with open(filename) as f:\n",
    "       for line in f:\n",
    "           print(line)\n",
    "           \n",
    "The file is in the same folder as this notebook and is called bmi.csv\n",
    "\n",
    "If you have a string \"a,b\" you can use the split function to split on a delimiter. So\n",
    "\n",
    "    \"a,b\".split(\",\") == [\"a\", \"b\"]\n",
    "    \n",
    "To perform and computations on the numbers reember to cast the to a numerical type using ( float() or int())"
   ]
  },
  {
   "cell_type": "code",
   "execution_count": null,
   "metadata": {
    "collapsed": false,
    "nbpresent": {
     "id": "c03f139d-5715-4ce5-afdd-199afd9c8679"
    }
   },
   "outputs": [],
   "source": [
    "# Your code goes here"
   ]
  },
  {
   "cell_type": "code",
   "execution_count": null,
   "metadata": {
    "collapsed": false,
    "nbpresent": {
     "id": "9b1dda5c-2692-4367-b725-6a8120410270"
    }
   },
   "outputs": [],
   "source": [
    "# Bonus code to create the csv file we used in the excersice above\n",
    "\n",
    "import random\n",
    "with open(\"bmi.csv\", \"w\") as f:\n",
    "    f.write(\"height,weight\")\n",
    "    for i in range(100):\n",
    "        f.write(str(1 + random.random()) + \",\" + str(random.randint(50, 120)) + \"\\n\")\n",
    "    "
   ]
  },
  {
   "cell_type": "markdown",
   "metadata": {
    "nbpresent": {
     "id": "099b6264-55a3-4156-9bb0-0d0368be3df6"
    }
   },
   "source": [
    "## Exersice 3\n",
    "\n",
    "Write a function that takes a list of python dictionaries in to an html table. (Html table specification: https://www.tutorialspoint.com/html/html_tables.htm). The table should include headers which corresponds to the keys in the dictionary. We also pass a list of the headers in the correct order to the function. We can assume that all the kesy in the header is in each dictionary. (As an extension you can try to extend the code to deal with non-existent keys)\n",
    "\n",
    "The result should look something like this: \n",
    "    <table> \n",
    "        <tr> <th> a </th> <th> b </th> </tr>\n",
    "        <tr> <td> 1 </td> <td> 2 </td> </tr> \n",
    "        <tr> <td> 3 </td> <td> 4 </td></tr>\n",
    "    </table>"
   ]
  },
  {
   "cell_type": "code",
   "execution_count": null,
   "metadata": {
    "collapsed": false,
    "nbpresent": {
     "id": "871c7dfa-18ef-470a-aa73-cc9083dbe780"
    },
    "scrolled": false
   },
   "outputs": [],
   "source": [
    "# To see if the result is working you can use the following code: \n",
    "\n",
    "from IPython.core.display import display, HTML\n",
    "\n",
    "# This is the sort of string we want to produce\n",
    "string = \"<table> <tr> <th> a </th> <th> b </th> </tr><tr> <td> 1 </td> <td> 2 </td> </tr> <tr> <td> 3 </td> <td> 4 </td></tr> </table>\"\n",
    "\n",
    "display(HTML(string)) # Displays the html"
   ]
  },
  {
   "cell_type": "markdown",
   "metadata": {
    "nbpresent": {
     "id": "7793bf55-d483-4a26-838c-1c3fda2bb0e7"
    }
   },
   "source": [
    "Your code will go in the html_table function. If you have an idea of how to write the whole function, just do that. Otherwise you can use the following steps to help you get there. \n",
    "\n",
    "Note that since a dictionary is unorder you can use any order of the he\n",
    "\n",
    "1. Make the function return an empty table ( < table> < /table>\")\n",
    "2. Each row in the table (including the header) needs to be inside tr-tags (< tr> Row in here < /tr>)\n",
    "3. Header elements needs the (< th> Header < /th>) tag. \n",
    "4. The main part of the table requires a double loop through the values of the dictionaries in the list. \n",
    "\n",
    "\n"
   ]
  },
  {
   "cell_type": "code",
   "execution_count": null,
   "metadata": {
    "collapsed": false,
    "nbpresent": {
     "id": "ebd9f91e-c55b-4d76-8a05-694d2c76ba94"
    }
   },
   "outputs": [],
   "source": [
    "\n",
    "def html_table(header, lists):\n",
    "    table = \"\"\n",
    "    # Your code in here\n",
    "    \n",
    "    return table\n",
    "\n",
    "\n",
    "lists = [{\"a\": 1, \"b\": 2}, {\"a\":3, \"b\": 4}]\n",
    "\n",
    "table = html_table([\"a\", \"b\"],lists)\n",
    "\n",
    "display(HTML(table))\n"
   ]
  },
  {
   "cell_type": "markdown",
   "metadata": {
    "nbpresent": {
     "id": "5a4ccc59-528f-4a85-9426-9903ef5c4638"
    }
   },
   "source": [
    "## Excersice 4\n",
    "\n",
    "Retreiving data from the web using the requests library (http://docs.python-requests.org/en/master/). \n",
    "\n",
    "If importing requests does not work try to install it with : \n",
    "\n",
    "    !pip install requests\n",
    "    \n",
    "We will start with the requests.get function. Read the documentation here and http://docs.python-requests.org/en/master/user/quickstart/ and try to write some simple code that prints as a string the content of google.com\n"
   ]
  },
  {
   "cell_type": "code",
   "execution_count": null,
   "metadata": {
    "collapsed": true,
    "nbpresent": {
     "id": "c2c22f98-7886-4f6e-a018-355110ebccc4"
    }
   },
   "outputs": [],
   "source": [
    "import requests\n",
    "\n",
    "# your code goes here"
   ]
  },
  {
   "cell_type": "markdown",
   "metadata": {
    "nbpresent": {
     "id": "02ee7bfb-ad7e-4077-910f-25e686e16365"
    }
   },
   "source": [
    "We now want to get some data from the jordan public health surveillance system. Most of the data is password protected, but we can access some of the very basic data at http://iers.moh.gov.jo/api/key_indicators. \n",
    "\n",
    "You can see what the data looks like by click opening the link in your browser. The data is structured as follows: under the key reg_2 we find the total number of consultations and under tot_1 we find the total number of cases submitted to the system. The weeks give the number per epi_week and total gives the total. \n",
    "\n",
    "The data is in the JSON format, this means that we need to load it to a dictionary before we can access it. Ther are multiple ways of doing that, but the requests library can do it for us see here(http://docs.python-requests.org/en/master/user/quickstart/#json-response-content). \n",
    "\n",
    "Write some code that can print out the total number of consultations and cases this year using the data from the iers site. "
   ]
  },
  {
   "cell_type": "code",
   "execution_count": null,
   "metadata": {
    "collapsed": false,
    "nbpresent": {
     "id": "a4dd8833-a75f-4cad-8148-9caad79ca005"
    }
   },
   "outputs": [],
   "source": []
  },
  {
   "cell_type": "markdown",
   "metadata": {
    "nbpresent": {
     "id": "2edd1e74-952a-4cd7-955a-7895c488b096"
    }
   },
   "source": [
    "As a last part of this excersie we want to try to present the above data as a graph. Python has many plotting libraries, but we will use matplotlib, see here: http://matplotlib.org/users/pyplot_tutorial.html\n",
    "\n",
    "install this package with : \n",
    "\n",
    "    !conda install matplotlib\n",
    "    \n",
    "To start with follow the tutorial to create the first straight line graph. To get the charts to show up well in the notebook run the cell below."
   ]
  },
  {
   "cell_type": "code",
   "execution_count": null,
   "metadata": {
    "collapsed": true,
    "nbpresent": {
     "id": "a651ecc3-e851-4a41-99c0-8ec7af5b3692"
    }
   },
   "outputs": [],
   "source": [
    "import matplotlib\n",
    "%matplotlib notebook"
   ]
  },
  {
   "cell_type": "code",
   "execution_count": null,
   "metadata": {
    "collapsed": true,
    "nbpresent": {
     "id": "22203876-33b2-480c-88b2-e293b6a6b441"
    }
   },
   "outputs": [],
   "source": [
    "# Your code to generate a simple straight line chart here. "
   ]
  },
  {
   "cell_type": "markdown",
   "metadata": {
    "nbpresent": {
     "id": "4f0dc698-82f2-486f-9bf4-ffc8bfbdd5a5"
    }
   },
   "source": [
    "We now want to try to plot the number of cases per week using matplotlib. First you need to create two lists. One with the week-numbers in ascending order and one with the counts from the data we got above ( needs to be in the same order). The sorted() function in python can be used if needed( https://docs.python.org/3.6/howto/sorting.html#sortinghowto)\n",
    "\n",
    "Then try to follow the tutorial to create first a line plot of the data.\n",
    "\n",
    "The change it to show dots where the data is instead of a continues line. Following the same tutorial you can also learn how to add titles to axis and to the plot and how to style the plot in different ways. \n",
    "\n",
    "It is also possible to create a bar chart. Trying looking via google for \"matplotlib barchart\" to find some reference you can use. Or you can search for bar charts on the matplotlib website: http://matplotlib.org/search.html?q=bar"
   ]
  },
  {
   "cell_type": "code",
   "execution_count": null,
   "metadata": {
    "collapsed": true,
    "nbpresent": {
     "id": "29fe88bd-d885-4f6d-9684-042845e4e153"
    }
   },
   "outputs": [],
   "source": []
  },
  {
   "cell_type": "code",
   "execution_count": null,
   "metadata": {
    "collapsed": true,
    "nbpresent": {
     "id": "49a723bd-0bea-4d9c-825d-30301cea7189"
    }
   },
   "outputs": [],
   "source": []
  },
  {
   "cell_type": "markdown",
   "metadata": {
    "collapsed": true,
    "nbpresent": {
     "id": "876ac15d-e875-450a-b1e0-c9d4ee29a352"
    }
   },
   "source": [
    "## More excersies: \n",
    "\n",
    "For many more simple excersies you can try this: http://www.ling.gu.se/~lager/python_exercises.html"
   ]
  },
  {
   "cell_type": "code",
   "execution_count": null,
   "metadata": {
    "collapsed": true,
    "nbpresent": {
     "id": "f34b4e1e-722d-42d9-94dc-319f6d9d1214"
    }
   },
   "outputs": [],
   "source": []
  }
 ],
 "metadata": {
  "anaconda-cloud": {},
  "kernelspec": {
   "display_name": "Python 3",
   "language": "python",
   "name": "python3"
  },
  "language_info": {
   "codemirror_mode": {
    "name": "ipython",
    "version": 3
   },
   "file_extension": ".py",
   "mimetype": "text/x-python",
   "name": "python",
   "nbconvert_exporter": "python",
   "pygments_lexer": "ipython3",
   "version": "3.6.0"
  },
  "nbpresent": {
   "slides": {
    "0cb3416d-a650-4192-a6eb-742fbc1a0237": {
     "id": "0cb3416d-a650-4192-a6eb-742fbc1a0237",
     "prev": "59a13346-a8c2-4bb6-b6b3-35848f13bf87",
     "regions": {
      "c57e4695-a9e8-46ae-a0de-3933b3ff93de": {
       "attrs": {
        "height": 0.8,
        "width": 0.8,
        "x": 0.1,
        "y": 0.1
       },
       "content": {
        "cell": "a4dd8833-a75f-4cad-8148-9caad79ca005",
        "part": "whole"
       },
       "id": "c57e4695-a9e8-46ae-a0de-3933b3ff93de"
      }
     }
    },
    "24172386-76d5-443c-9407-574fa7988463": {
     "id": "24172386-76d5-443c-9407-574fa7988463",
     "prev": "e2635c2d-b8aa-4554-81e8-59c4155c7fc2",
     "regions": {
      "ee16428c-89d4-47d9-8a35-eb6ba449a09d": {
       "attrs": {
        "height": 0.8,
        "width": 0.8,
        "x": 0.1,
        "y": 0.1
       },
       "content": {
        "cell": "099b6264-55a3-4156-9bb0-0d0368be3df6",
        "part": "whole"
       },
       "id": "ee16428c-89d4-47d9-8a35-eb6ba449a09d"
      }
     }
    },
    "284d8395-44bd-4036-82b0-62c2d8c1542f": {
     "id": "284d8395-44bd-4036-82b0-62c2d8c1542f",
     "prev": "821a80b4-6cdb-4fe9-8132-8e01e4f58368",
     "regions": {
      "59ea2d2d-4a9a-4aa2-bb47-a74dc8028aeb": {
       "attrs": {
        "height": 0.8,
        "width": 0.8,
        "x": 0.1,
        "y": 0.1
       },
       "content": {
        "cell": "7793bf55-d483-4a26-838c-1c3fda2bb0e7",
        "part": "whole"
       },
       "id": "59ea2d2d-4a9a-4aa2-bb47-a74dc8028aeb"
      }
     }
    },
    "2ed4404a-7117-4c4e-a5cb-594464a0c0ab": {
     "id": "2ed4404a-7117-4c4e-a5cb-594464a0c0ab",
     "prev": "0cb3416d-a650-4192-a6eb-742fbc1a0237",
     "regions": {
      "0cde3ec0-4a1a-42b4-a391-899d45179527": {
       "attrs": {
        "height": 0.8,
        "width": 0.8,
        "x": 0.1,
        "y": 0.1
       },
       "content": {
        "cell": "2edd1e74-952a-4cd7-955a-7895c488b096",
        "part": "whole"
       },
       "id": "0cde3ec0-4a1a-42b4-a391-899d45179527"
      }
     }
    },
    "459aeaa9-dda7-42aa-9417-f49fddbee39b": {
     "id": "459aeaa9-dda7-42aa-9417-f49fddbee39b",
     "prev": "fdc6c1ee-2b93-4cb2-bca3-fbca63d23c1b",
     "regions": {
      "2ea7ecb7-dd30-416c-b0be-4353b65b78a3": {
       "attrs": {
        "height": 0.8,
        "width": 0.8,
        "x": 0.1,
        "y": 0.1
       },
       "content": {
        "cell": "c2c22f98-7886-4f6e-a018-355110ebccc4",
        "part": "whole"
       },
       "id": "2ea7ecb7-dd30-416c-b0be-4353b65b78a3"
      }
     }
    },
    "4c4ad922-afb0-4ec1-99ae-cf32a79bd8a0": {
     "id": "4c4ad922-afb0-4ec1-99ae-cf32a79bd8a0",
     "prev": null,
     "regions": {
      "d7438f02-c5a1-41dd-b082-5ce912443678": {
       "attrs": {
        "height": 0.8,
        "width": 0.8,
        "x": 0.1,
        "y": 0.1
       },
       "content": {
        "cell": "2b04c3f4-d4bf-41c8-967e-80161a7a2243",
        "part": "whole"
       },
       "id": "d7438f02-c5a1-41dd-b082-5ce912443678"
      }
     }
    },
    "59a13346-a8c2-4bb6-b6b3-35848f13bf87": {
     "id": "59a13346-a8c2-4bb6-b6b3-35848f13bf87",
     "prev": "459aeaa9-dda7-42aa-9417-f49fddbee39b",
     "regions": {
      "b3784779-fbab-4fd0-89a0-a31cab4649a4": {
       "attrs": {
        "height": 0.8,
        "width": 0.8,
        "x": 0.1,
        "y": 0.1
       },
       "content": {
        "cell": "02ee7bfb-ad7e-4077-910f-25e686e16365",
        "part": "whole"
       },
       "id": "b3784779-fbab-4fd0-89a0-a31cab4649a4"
      }
     }
    },
    "60033b9b-3036-42b0-9ea1-7eebfc639a81": {
     "id": "60033b9b-3036-42b0-9ea1-7eebfc639a81",
     "prev": "65bd71da-a0f7-468a-a770-214af6002c4c",
     "regions": {
      "0fc1ac5f-7966-4244-83be-f8fdce2ab6f3": {
       "attrs": {
        "height": 0.8,
        "width": 0.8,
        "x": 0.1,
        "y": 0.1
       },
       "content": {
        "cell": "22203876-33b2-480c-88b2-e293b6a6b441",
        "part": "whole"
       },
       "id": "0fc1ac5f-7966-4244-83be-f8fdce2ab6f3"
      }
     }
    },
    "65bd71da-a0f7-468a-a770-214af6002c4c": {
     "id": "65bd71da-a0f7-468a-a770-214af6002c4c",
     "prev": "2ed4404a-7117-4c4e-a5cb-594464a0c0ab",
     "regions": {
      "e2c49507-63dd-4287-80ca-293fe33beed3": {
       "attrs": {
        "height": 0.8,
        "width": 0.8,
        "x": 0.1,
        "y": 0.1
       },
       "content": {
        "cell": "a651ecc3-e851-4a41-99c0-8ec7af5b3692",
        "part": "whole"
       },
       "id": "e2c49507-63dd-4287-80ca-293fe33beed3"
      }
     }
    },
    "805b7cff-0066-42e8-bfcd-eddeaa759961": {
     "id": "805b7cff-0066-42e8-bfcd-eddeaa759961",
     "prev": "c25c2909-6ab4-4e0e-81b0-99c400144576",
     "regions": {
      "81637a6c-6bf1-4dcb-b215-b0fed9893058": {
       "attrs": {
        "height": 0.8,
        "width": 0.8,
        "x": 0.1,
        "y": 0.1
       },
       "content": {
        "cell": "29fe88bd-d885-4f6d-9684-042845e4e153",
        "part": "whole"
       },
       "id": "81637a6c-6bf1-4dcb-b215-b0fed9893058"
      }
     }
    },
    "821a80b4-6cdb-4fe9-8132-8e01e4f58368": {
     "id": "821a80b4-6cdb-4fe9-8132-8e01e4f58368",
     "prev": "24172386-76d5-443c-9407-574fa7988463",
     "regions": {
      "40e194dd-e25e-4d7f-b31e-f099013b8672": {
       "attrs": {
        "height": 0.8,
        "width": 0.8,
        "x": 0.1,
        "y": 0.1
       },
       "content": {
        "cell": "871c7dfa-18ef-470a-aa73-cc9083dbe780",
        "part": "whole"
       },
       "id": "40e194dd-e25e-4d7f-b31e-f099013b8672"
      }
     }
    },
    "a4348a3a-b38c-4647-822e-de1df4b3f627": {
     "id": "a4348a3a-b38c-4647-822e-de1df4b3f627",
     "prev": "d49ee2c6-e9ba-4b78-8000-ecba45d1ee28",
     "regions": {
      "30db20c3-372b-4515-8bcd-ac15aa639e74": {
       "attrs": {
        "height": 0.8,
        "width": 0.8,
        "x": 0.1,
        "y": 0.1
       },
       "content": {
        "cell": "a0496bf4-a8e8-48dc-80c6-523174218457",
        "part": "whole"
       },
       "id": "30db20c3-372b-4515-8bcd-ac15aa639e74"
      }
     }
    },
    "bceea306-de53-42ba-afca-ea5501f053c6": {
     "id": "bceea306-de53-42ba-afca-ea5501f053c6",
     "prev": "4c4ad922-afb0-4ec1-99ae-cf32a79bd8a0",
     "regions": {
      "54aba8a9-a791-463c-ad4b-95d05c01ad2e": {
       "attrs": {
        "height": 0.8,
        "width": 0.8,
        "x": 0.1,
        "y": 0.1
       },
       "content": {
        "cell": "82acefc8-ef28-49e1-9a26-2644a2216403",
        "part": "whole"
       },
       "id": "54aba8a9-a791-463c-ad4b-95d05c01ad2e"
      }
     }
    },
    "c25c2909-6ab4-4e0e-81b0-99c400144576": {
     "id": "c25c2909-6ab4-4e0e-81b0-99c400144576",
     "prev": "60033b9b-3036-42b0-9ea1-7eebfc639a81",
     "regions": {
      "59772de7-7062-4fdd-a687-20c788c647df": {
       "attrs": {
        "height": 0.8,
        "width": 0.8,
        "x": 0.1,
        "y": 0.1
       },
       "content": {
        "cell": "4f0dc698-82f2-486f-9bf4-ffc8bfbdd5a5",
        "part": "whole"
       },
       "id": "59772de7-7062-4fdd-a687-20c788c647df"
      }
     }
    },
    "c3e71521-e96a-406f-a084-61cf403c79d6": {
     "id": "c3e71521-e96a-406f-a084-61cf403c79d6",
     "prev": "fdf16f13-96a5-4904-bfa6-1408081d6d40",
     "regions": {
      "bdbba658-b3bd-4167-8ad5-6934865ef277": {
       "attrs": {
        "height": 0.8,
        "width": 0.8,
        "x": 0.1,
        "y": 0.1
       },
       "content": {
        "cell": "876ac15d-e875-450a-b1e0-c9d4ee29a352",
        "part": "whole"
       },
       "id": "bdbba658-b3bd-4167-8ad5-6934865ef277"
      }
     }
    },
    "c773c72f-35da-40b0-83ad-f175dd7ddd16": {
     "id": "c773c72f-35da-40b0-83ad-f175dd7ddd16",
     "prev": "a4348a3a-b38c-4647-822e-de1df4b3f627",
     "regions": {
      "c49bd6e0-e133-41a2-b076-ba15967f3a1d": {
       "attrs": {
        "height": 0.8,
        "width": 0.8,
        "x": 0.1,
        "y": 0.1
       },
       "content": {
        "cell": "c03f139d-5715-4ce5-afdd-199afd9c8679",
        "part": "whole"
       },
       "id": "c49bd6e0-e133-41a2-b076-ba15967f3a1d"
      }
     }
    },
    "d49ee2c6-e9ba-4b78-8000-ecba45d1ee28": {
     "id": "d49ee2c6-e9ba-4b78-8000-ecba45d1ee28",
     "prev": "bceea306-de53-42ba-afca-ea5501f053c6",
     "regions": {
      "1591e31e-4bde-4bcc-9aec-927f9a1b34e5": {
       "attrs": {
        "height": 0.8,
        "width": 0.8,
        "x": 0.1,
        "y": 0.1
       },
       "content": {
        "cell": "f992eed9-fe77-49cf-b1e3-84c95e475349",
        "part": "whole"
       },
       "id": "1591e31e-4bde-4bcc-9aec-927f9a1b34e5"
      }
     }
    },
    "dcec961d-67ab-4034-9064-6dbae698833c": {
     "id": "dcec961d-67ab-4034-9064-6dbae698833c",
     "prev": "284d8395-44bd-4036-82b0-62c2d8c1542f",
     "regions": {
      "140b3a6b-82b4-4fa5-99fd-1641cbe359f7": {
       "attrs": {
        "height": 0.8,
        "width": 0.8,
        "x": 0.1,
        "y": 0.1
       },
       "content": {
        "cell": "ebd9f91e-c55b-4d76-8a05-694d2c76ba94",
        "part": "whole"
       },
       "id": "140b3a6b-82b4-4fa5-99fd-1641cbe359f7"
      }
     }
    },
    "e2635c2d-b8aa-4554-81e8-59c4155c7fc2": {
     "id": "e2635c2d-b8aa-4554-81e8-59c4155c7fc2",
     "prev": "c773c72f-35da-40b0-83ad-f175dd7ddd16",
     "regions": {
      "340cfe3a-3d7f-48cb-a424-aade7544165c": {
       "attrs": {
        "height": 0.8,
        "width": 0.8,
        "x": 0.1,
        "y": 0.1
       },
       "content": {
        "cell": "9b1dda5c-2692-4367-b725-6a8120410270",
        "part": "whole"
       },
       "id": "340cfe3a-3d7f-48cb-a424-aade7544165c"
      }
     }
    },
    "e8b00c6e-3a98-4ec2-acd9-850044f45d9f": {
     "id": "e8b00c6e-3a98-4ec2-acd9-850044f45d9f",
     "prev": "c3e71521-e96a-406f-a084-61cf403c79d6",
     "regions": {
      "d6826507-f16b-4297-aff4-561787d5f0f4": {
       "attrs": {
        "height": 0.8,
        "width": 0.8,
        "x": 0.1,
        "y": 0.1
       },
       "content": {
        "cell": "f34b4e1e-722d-42d9-94dc-319f6d9d1214",
        "part": "whole"
       },
       "id": "d6826507-f16b-4297-aff4-561787d5f0f4"
      }
     }
    },
    "fdc6c1ee-2b93-4cb2-bca3-fbca63d23c1b": {
     "id": "fdc6c1ee-2b93-4cb2-bca3-fbca63d23c1b",
     "prev": "dcec961d-67ab-4034-9064-6dbae698833c",
     "regions": {
      "19c45f8c-cb8a-4b3b-abbb-ff9ec01d97ef": {
       "attrs": {
        "height": 0.8,
        "width": 0.8,
        "x": 0.1,
        "y": 0.1
       },
       "content": {
        "cell": "5a4ccc59-528f-4a85-9426-9903ef5c4638",
        "part": "whole"
       },
       "id": "19c45f8c-cb8a-4b3b-abbb-ff9ec01d97ef"
      }
     }
    },
    "fdf16f13-96a5-4904-bfa6-1408081d6d40": {
     "id": "fdf16f13-96a5-4904-bfa6-1408081d6d40",
     "prev": "805b7cff-0066-42e8-bfcd-eddeaa759961",
     "regions": {
      "efb5f4b1-1345-4f0e-834a-ebc8fbb51679": {
       "attrs": {
        "height": 0.8,
        "width": 0.8,
        "x": 0.1,
        "y": 0.1
       },
       "content": {
        "cell": "49a723bd-0bea-4d9c-825d-30301cea7189",
        "part": "whole"
       },
       "id": "efb5f4b1-1345-4f0e-834a-ebc8fbb51679"
      }
     }
    }
   },
   "themes": {}
  }
 },
 "nbformat": 4,
 "nbformat_minor": 1
}
